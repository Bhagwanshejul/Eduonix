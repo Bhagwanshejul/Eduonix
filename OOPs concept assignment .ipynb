{
 "cells": [
  {
   "cell_type": "markdown",
   "id": "83a18c1b",
   "metadata": {},
   "source": [
    "# assignment Qustion NO 1\n",
    "Problem: OOPs\n",
    "1.Go step by step:\n",
    "A.Create a class named (Car)\n",
    "B.Call constructor\n",
    "C.Create 3 attributes under that (name, price, colour)\n",
    "D.Create 3 functions - 1. sound 2. speed 3. display (to display 1 and 2 fuctions)\n",
    "E.Create a child class named (Thar) and inherite Car\n",
    "F.Create two objects under that child class and access the functions for them."
   ]
  },
  {
   "cell_type": "code",
   "execution_count": 7,
   "id": "d02701e6",
   "metadata": {},
   "outputs": [],
   "source": [
    "class Car:\n",
    "    def __init__(self, name, price, colour):\n",
    "        self.name = name\n",
    "        self.price = price\n",
    "        self.colour = colour\n",
    "\n",
    "    def sound(self):\n",
    "        print(f\"The {self.name} makes a vroom sound.\")\n",
    "\n",
    "    def speed(self):\n",
    "        print(f\"The {self.name} can go up to 200 km/h.\")\n",
    "\n",
    "    def display(self):\n",
    "        print(f\"Car: {self.name}\\nPrice: {self.price}\\nColour: {self.colour}\")\n",
    "\n",
    "\n",
    "class Thar(Car):\n",
    "    pass\n"
   ]
  },
  {
   "cell_type": "code",
   "execution_count": 8,
   "id": "3f2e49fe",
   "metadata": {},
   "outputs": [
    {
     "name": "stdout",
     "output_type": "stream",
     "text": [
      "The Mahindra Thar makes a vroom sound.\n",
      "The Mahindra Thar can go up to 200 km/h.\n",
      "Car: Mahindra Thar\n",
      "Price: 40000\n",
      "Colour: Green\n"
     ]
    }
   ],
   "source": [
    "thar1 = Thar(\"Mahindra Thar\", 40000, \"Green\")\n",
    "thar1.sound()  # Output: The Mahindra Thar makes a vroom sound.\n",
    "thar1.speed()  # Output: The Mahindra Thar can go up to 200 km/h.\n",
    "thar1.display()\n"
   ]
  },
  {
   "cell_type": "code",
   "execution_count": 9,
   "id": "23aa826b",
   "metadata": {},
   "outputs": [
    {
     "name": "stdout",
     "output_type": "stream",
     "text": [
      "The Jeep Wrangler makes a vroom sound.\n",
      "The Jeep Wrangler can go up to 200 km/h.\n",
      "Car: Jeep Wrangler\n",
      "Price: 50000\n",
      "Colour: Yellow\n"
     ]
    }
   ],
   "source": [
    "\n",
    "thar2 = Thar(\"Jeep Wrangler\", 50000, \"Yellow\")\n",
    "thar2.sound()  # Output: The Jeep Wrangler makes a vroom sound.\n",
    "thar2.speed()  # Output: The Jeep Wrangler can go up to 200 km/h.\n",
    "thar2.display()"
   ]
  },
  {
   "cell_type": "code",
   "execution_count": null,
   "id": "a025b88e",
   "metadata": {},
   "outputs": [],
   "source": []
  },
  {
   "cell_type": "markdown",
   "id": "8a983ea3",
   "metadata": {},
   "source": [
    "# assignment Qustion NO 1\n",
    "\n",
    "Problem: Try and Except\n",
    "Create an Except where we can catch all the “zero division error” (you can customize your print statements )\n"
   ]
  },
  {
   "cell_type": "code",
   "execution_count": 10,
   "id": "dfd8bcc5",
   "metadata": {},
   "outputs": [
    {
     "name": "stdout",
     "output_type": "stream",
     "text": [
      "Error: Division by zero is not allowed.\n"
     ]
    }
   ],
   "source": [
    "try:\n",
    "    numerator = 10\n",
    "    denominator = 0\n",
    "    result = numerator / denominator\n",
    "    print(f\"Result: {result}\")\n",
    "except ZeroDivisionError:\n",
    "    print(\"Error: Division by zero is not allowed.\")"
   ]
  },
  {
   "cell_type": "code",
   "execution_count": 1,
   "id": "3e5c296d",
   "metadata": {},
   "outputs": [],
   "source": []
  }
 ],
 "metadata": {
  "kernelspec": {
   "display_name": "Python 3 (ipykernel)",
   "language": "python",
   "name": "python3"
  },
  "language_info": {
   "codemirror_mode": {
    "name": "ipython",
    "version": 3
   },
   "file_extension": ".py",
   "mimetype": "text/x-python",
   "name": "python",
   "nbconvert_exporter": "python",
   "pygments_lexer": "ipython3",
   "version": "3.10.9"
  }
 },
 "nbformat": 4,
 "nbformat_minor": 5
}
